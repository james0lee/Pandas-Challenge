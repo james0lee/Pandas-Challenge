{
 "cells": [
  {
   "cell_type": "markdown",
   "metadata": {},
   "source": [
    "### Note\n",
    "* Instructions have been included for each segment. You do not have to follow them exactly, but they are included to help you think through the steps."
   ]
  },
  {
   "cell_type": "code",
   "execution_count": 522,
   "metadata": {},
   "outputs": [],
   "source": [
    "# Dependencies and Setup\n",
    "import pandas as pd\n",
    "\n",
    "# File to Load (Remember to Change These)\n",
    "school_data_to_load = \"Resources/schools_complete.csv\"\n",
    "student_data_to_load = \"Resources/students_complete.csv\"\n",
    "\n",
    "# Read School and Student Data File and store into Pandas DataFrames\n",
    "school_data = pd.read_csv(school_data_to_load)\n",
    "student_data = pd.read_csv(student_data_to_load)\n",
    "\n",
    "# Combine the data into a single dataset.  \n",
    "complete_df = pd.merge(student_data, school_data, how=\"left\", on=[\"school_name\", \"school_name\"])"
   ]
  },
  {
   "cell_type": "markdown",
   "metadata": {},
   "source": [
    "## District Summary\n",
    "\n",
    "* Calculate the total number of schools\n",
    "\n",
    "* Calculate the total number of students\n",
    "\n",
    "* Calculate the total budget\n",
    "\n",
    "* Calculate the average math score \n",
    "\n",
    "* Calculate the average reading score\n",
    "\n",
    "* Calculate the percentage of students with a passing math score (70 or greater)\n",
    "\n",
    "* Calculate the percentage of students with a passing reading score (70 or greater)\n",
    "\n",
    "* Calculate the percentage of students who passed math **and** reading (% Overall Passing)\n",
    "\n",
    "* Create a dataframe to hold the above results\n",
    "\n",
    "* Optional: give the displayed data cleaner formatting"
   ]
  },
  {
   "cell_type": "code",
   "execution_count": 523,
   "metadata": {},
   "outputs": [
    {
     "data": {
      "text/plain": [
       "Index(['Student ID', 'student_name', 'gender', 'grade', 'school_name',\n",
       "       'reading_score', 'math_score', 'School ID', 'type', 'size', 'budget'],\n",
       "      dtype='object')"
      ]
     },
     "execution_count": 523,
     "metadata": {},
     "output_type": "execute_result"
    }
   ],
   "source": [
    "complete_df.columns"
   ]
  },
  {
   "cell_type": "code",
   "execution_count": 524,
   "metadata": {},
   "outputs": [],
   "source": [
    "#total number of schools\n",
    "school_number = len(complete_df[\"school_name\"].unique())\n",
    "#total number of students\n",
    "total_students = sum(complete_df[\"size\"])\n",
    "#total budget\n",
    "total_budget = sum(complete_df[\"budget\"])\n"
   ]
  },
  {
   "cell_type": "code",
   "execution_count": 525,
   "metadata": {},
   "outputs": [],
   "source": [
    "#average math score\n",
    "average_math=complete_df[\"math_score\"].mean()\n",
    "#average reading score\n",
    "average_reading= complete_df['reading_score'].mean()"
   ]
  },
  {
   "cell_type": "code",
   "execution_count": 526,
   "metadata": {},
   "outputs": [
    {
     "data": {
      "text/html": [
       "<div>\n",
       "<style scoped>\n",
       "    .dataframe tbody tr th:only-of-type {\n",
       "        vertical-align: middle;\n",
       "    }\n",
       "\n",
       "    .dataframe tbody tr th {\n",
       "        vertical-align: top;\n",
       "    }\n",
       "\n",
       "    .dataframe thead th {\n",
       "        text-align: right;\n",
       "    }\n",
       "</style>\n",
       "<table border=\"1\" class=\"dataframe\">\n",
       "  <thead>\n",
       "    <tr style=\"text-align: right;\">\n",
       "      <th></th>\n",
       "      <th>Total Schools</th>\n",
       "      <th>Total Number of Students</th>\n",
       "      <th>Total Budget</th>\n",
       "      <th>Average Math Score</th>\n",
       "      <th>Average Reading Score</th>\n",
       "      <th>Percentage of Passing Math</th>\n",
       "      <th>Percentage of Passing Reading</th>\n",
       "      <th>Percentage of Passing</th>\n",
       "    </tr>\n",
       "  </thead>\n",
       "  <tbody>\n",
       "    <tr>\n",
       "      <th>0</th>\n",
       "      <td>15</td>\n",
       "      <td>130551930</td>\n",
       "      <td>$82,932,329,558.00</td>\n",
       "      <td>78.985371</td>\n",
       "      <td>81.87784</td>\n",
       "      <td>0.000225</td>\n",
       "      <td>0.000257</td>\n",
       "      <td>0.019554</td>\n",
       "    </tr>\n",
       "  </tbody>\n",
       "</table>\n",
       "</div>"
      ],
      "text/plain": [
       "   Total Schools  Total Number of Students        Total Budget  \\\n",
       "0             15                 130551930  $82,932,329,558.00   \n",
       "\n",
       "   Average Math Score  Average Reading Score  Percentage of Passing Math  \\\n",
       "0           78.985371               81.87784                    0.000225   \n",
       "\n",
       "   Percentage of Passing Reading  Percentage of Passing  \n",
       "0                       0.000257               0.019554  "
      ]
     },
     "execution_count": 526,
     "metadata": {},
     "output_type": "execute_result"
    }
   ],
   "source": [
    "#Calculate the percentage of students with a passing math score (70 or greater)\n",
    "\n",
    "percent_math= (complete_df[complete_df['math_score'] >= 70].math_score.count()) / total_students\n",
    "\n",
    "#Calculate the percentage of students with a passing reading score (70 or greater)\n",
    "\n",
    "percent_read= (complete_df[complete_df['reading_score'] >= 70].reading_score.count()) / total_students\n",
    "\n",
    "#Calculate the percentage of students who passed math and reading (% Overall Passing)\n",
    "pass_overal= complete_df[(complete_df[\"reading_score\"]>=70) & (complete_df[\"math_score\"]>=70)].math_score.count()\n",
    "percent_pass= (pass_overal)/total_students * 100\n",
    "\n",
    "district_summary = pd.DataFrame ({\"Total Schools\": [school_number],\n",
    "                                \"Total Number of Students\": [total_students], \n",
    "                                \"Total Budget\": [total_budget], \n",
    "                                \"Average Math Score\": [average_math], \n",
    "                                \"Average Reading Score\": [average_reading], \n",
    "                                \"Percentage of Passing Math\": [percent_math],\n",
    "                                \"Percentage of Passing Reading\": [percent_read], \n",
    "                                \"Percentage of Passing\": [percent_pass] })\n",
    "\n",
    "#cleaning up total budget\n",
    "district_summary['Total Budget'] = district_summary.apply(lambda x: \"${:,.2f}\".format(x['Total Budget']), axis=1)\n",
    "#clean up \n",
    "\n",
    "\n",
    "district_summary.head()"
   ]
  },
  {
   "cell_type": "markdown",
   "metadata": {},
   "source": [
    "## School Summary"
   ]
  },
  {
   "cell_type": "markdown",
   "metadata": {},
   "source": [
    "* Create an overview table that summarizes key metrics about each school, including:\n",
    "  * School Name\n",
    "  * School Type\n",
    "  * Total Students\n",
    "  * Total School Budget\n",
    "  * Per Student Budget\n",
    "  * Average Math Score\n",
    "  * Average Reading Score\n",
    "  * % Passing Math\n",
    "  * % Passing Reading\n",
    "  * % Overall Passing (The percentage of students that passed math **and** reading.)\n",
    "  \n",
    "* Create a dataframe to hold the above results"
   ]
  },
  {
   "cell_type": "code",
   "execution_count": 527,
   "metadata": {},
   "outputs": [],
   "source": [
    "school_name = complete_df.set_index('school_name').groupby(['school_name'])\n",
    "#\n",
    "school_type = complete_df.set_index('school_name')\n",
    "\n",
    "students_per_school= complete_df['Student ID'].count()\n",
    "\n",
    "school_budget = complete_df['budget'].mean() \n",
    "\n",
    "student_budget = school_budget/students_per_school \n",
    "\n",
    "avg_math = school_name[\"math_score\"].mean()\n",
    "\n",
    "avg_read = school_name[\"reading_score\"].mean()\n",
    "\n",
    "pass_math = complete_df[complete_df[\"math_score\"] >=70].groupby('school_name')['Student ID'].count()\n",
    "school_percent_math = pass_math/ students_per_school *100\n",
    "\n",
    "pass_read = complete_df[complete_df[\"reading_score\"] >=70].groupby('school_name')['Student ID'].count()\n",
    "school_percent_read = pass_read/ students_per_school *100\n",
    "\n",
    "pass_overal= complete_df[(complete_df[\"reading_score\"]>=70) & (complete_df[\"math_score\"]>=70)].groupby('school_name')['Student ID'].count()\n",
    "school_percent_pass= pass_overal/students_per_school * 100"
   ]
  },
  {
   "cell_type": "code",
   "execution_count": 528,
   "metadata": {},
   "outputs": [
    {
     "data": {
      "text/html": [
       "<div>\n",
       "<style scoped>\n",
       "    .dataframe tbody tr th:only-of-type {\n",
       "        vertical-align: middle;\n",
       "    }\n",
       "\n",
       "    .dataframe tbody tr th {\n",
       "        vertical-align: top;\n",
       "    }\n",
       "\n",
       "    .dataframe thead th {\n",
       "        text-align: right;\n",
       "    }\n",
       "</style>\n",
       "<table border=\"1\" class=\"dataframe\">\n",
       "  <thead>\n",
       "    <tr style=\"text-align: right;\">\n",
       "      <th></th>\n",
       "      <th>School</th>\n",
       "      <th>School Type</th>\n",
       "      <th>Number of Students</th>\n",
       "      <th>School Budget</th>\n",
       "      <th>Budget Per Student</th>\n",
       "      <th>Average Math Score</th>\n",
       "      <th>Average Reading Score</th>\n",
       "      <th>Percentage of Passing Math</th>\n",
       "      <th>Percentage of Passing Reading</th>\n",
       "      <th>Percentage of Passing</th>\n",
       "    </tr>\n",
       "  </thead>\n",
       "  <tbody>\n",
       "    <tr>\n",
       "      <th>0</th>\n",
       "      <td>&lt;pandas.core.groupby.generic.DataFrameGroupBy ...</td>\n",
       "      <td>Student ID       student_n...</td>\n",
       "      <td>39170</td>\n",
       "      <td>2.117241e+06</td>\n",
       "      <td>54.052617</td>\n",
       "      <td>school_name\n",
       "Bailey High School       77.048432...</td>\n",
       "      <td>school_name\n",
       "Bailey High School       81.033963...</td>\n",
       "      <td>school_name\n",
       "Bailey High School       8.470768\n",
       "...</td>\n",
       "      <td>school_name\n",
       "Bailey High School       10.408476...</td>\n",
       "      <td>school_name\n",
       "Bailey High School       6.941537\n",
       "...</td>\n",
       "    </tr>\n",
       "  </tbody>\n",
       "</table>\n",
       "</div>"
      ],
      "text/plain": [
       "                                              School  \\\n",
       "0  <pandas.core.groupby.generic.DataFrameGroupBy ...   \n",
       "\n",
       "                                         School Type  Number of Students  \\\n",
       "0                      Student ID       student_n...               39170   \n",
       "\n",
       "   School Budget  Budget Per Student  \\\n",
       "0   2.117241e+06           54.052617   \n",
       "\n",
       "                                  Average Math Score  \\\n",
       "0  school_name\n",
       "Bailey High School       77.048432...   \n",
       "\n",
       "                               Average Reading Score  \\\n",
       "0  school_name\n",
       "Bailey High School       81.033963...   \n",
       "\n",
       "                          Percentage of Passing Math  \\\n",
       "0  school_name\n",
       "Bailey High School       8.470768\n",
       "...   \n",
       "\n",
       "                       Percentage of Passing Reading  \\\n",
       "0  school_name\n",
       "Bailey High School       10.408476...   \n",
       "\n",
       "                               Percentage of Passing  \n",
       "0  school_name\n",
       "Bailey High School       6.941537\n",
       "...  "
      ]
     },
     "execution_count": 528,
     "metadata": {},
     "output_type": "execute_result"
    }
   ],
   "source": [
    "#dataframe for school summary\n",
    "school_summary = pd.DataFrame ({\"School\": [school_name],\n",
    "                                \"School Type\": [school_type],\n",
    "                                \"Number of Students\": [students_per_school], \n",
    "                                \"School Budget\": [school_budget], \n",
    "                                \"Budget Per Student\": [student_budget],\n",
    "                                \"Average Math Score\": [avg_math], \n",
    "                                \"Average Reading Score\": [avg_read], \n",
    "                                \"Percentage of Passing Math\": [school_percent_math],\n",
    "                                \"Percentage of Passing Reading\": [school_percent_read], \n",
    "                                \"Percentage of Passing\": [school_percent_pass] }) \n",
    "\n",
    "school_summary.head()"
   ]
  },
  {
   "cell_type": "code",
   "execution_count": null,
   "metadata": {},
   "outputs": [],
   "source": []
  },
  {
   "cell_type": "markdown",
   "metadata": {},
   "source": [
    "## Top Performing Schools (By % Overall Passing)"
   ]
  },
  {
   "cell_type": "markdown",
   "metadata": {},
   "source": [
    "* Sort and display the top five performing schools by % overall passing."
   ]
  },
  {
   "cell_type": "code",
   "execution_count": 529,
   "metadata": {
    "scrolled": true
   },
   "outputs": [
    {
     "data": {
      "text/html": [
       "<div>\n",
       "<style scoped>\n",
       "    .dataframe tbody tr th:only-of-type {\n",
       "        vertical-align: middle;\n",
       "    }\n",
       "\n",
       "    .dataframe tbody tr th {\n",
       "        vertical-align: top;\n",
       "    }\n",
       "\n",
       "    .dataframe thead th {\n",
       "        text-align: right;\n",
       "    }\n",
       "</style>\n",
       "<table border=\"1\" class=\"dataframe\">\n",
       "  <thead>\n",
       "    <tr style=\"text-align: right;\">\n",
       "      <th></th>\n",
       "      <th>School</th>\n",
       "      <th>School Type</th>\n",
       "      <th>Number of Students</th>\n",
       "      <th>School Budget</th>\n",
       "      <th>Budget Per Student</th>\n",
       "      <th>Average Math Score</th>\n",
       "      <th>Average Reading Score</th>\n",
       "      <th>Percentage of Passing Math</th>\n",
       "      <th>Percentage of Passing Reading</th>\n",
       "      <th>Percentage of Passing</th>\n",
       "    </tr>\n",
       "  </thead>\n",
       "  <tbody>\n",
       "    <tr>\n",
       "      <th>0</th>\n",
       "      <td>&lt;pandas.core.groupby.generic.DataFrameGroupBy ...</td>\n",
       "      <td>Student ID       student_n...</td>\n",
       "      <td>39170</td>\n",
       "      <td>2.117241e+06</td>\n",
       "      <td>54.052617</td>\n",
       "      <td>school_name\n",
       "Bailey High School       77.048432...</td>\n",
       "      <td>school_name\n",
       "Bailey High School       81.033963...</td>\n",
       "      <td>school_name\n",
       "Bailey High School       8.470768\n",
       "...</td>\n",
       "      <td>school_name\n",
       "Bailey High School       10.408476...</td>\n",
       "      <td>school_name\n",
       "Bailey High School       6.941537\n",
       "...</td>\n",
       "    </tr>\n",
       "  </tbody>\n",
       "</table>\n",
       "</div>"
      ],
      "text/plain": [
       "                                              School  \\\n",
       "0  <pandas.core.groupby.generic.DataFrameGroupBy ...   \n",
       "\n",
       "                                         School Type  Number of Students  \\\n",
       "0                      Student ID       student_n...               39170   \n",
       "\n",
       "   School Budget  Budget Per Student  \\\n",
       "0   2.117241e+06           54.052617   \n",
       "\n",
       "                                  Average Math Score  \\\n",
       "0  school_name\n",
       "Bailey High School       77.048432...   \n",
       "\n",
       "                               Average Reading Score  \\\n",
       "0  school_name\n",
       "Bailey High School       81.033963...   \n",
       "\n",
       "                          Percentage of Passing Math  \\\n",
       "0  school_name\n",
       "Bailey High School       8.470768\n",
       "...   \n",
       "\n",
       "                       Percentage of Passing Reading  \\\n",
       "0  school_name\n",
       "Bailey High School       10.408476...   \n",
       "\n",
       "                               Percentage of Passing  \n",
       "0  school_name\n",
       "Bailey High School       6.941537\n",
       "...  "
      ]
     },
     "execution_count": 529,
     "metadata": {},
     "output_type": "execute_result"
    }
   ],
   "source": [
    "top_schools = school_summary.sort_values(\"Percentage of Passing\", ascending = False)\n",
    "\n",
    "top_schools.head(5)"
   ]
  },
  {
   "cell_type": "markdown",
   "metadata": {},
   "source": [
    "## Bottom Performing Schools (By % Overall Passing)"
   ]
  },
  {
   "cell_type": "markdown",
   "metadata": {},
   "source": [
    "* Sort and display the five worst-performing schools by % overall passing."
   ]
  },
  {
   "cell_type": "code",
   "execution_count": 530,
   "metadata": {},
   "outputs": [
    {
     "data": {
      "text/html": [
       "<div>\n",
       "<style scoped>\n",
       "    .dataframe tbody tr th:only-of-type {\n",
       "        vertical-align: middle;\n",
       "    }\n",
       "\n",
       "    .dataframe tbody tr th {\n",
       "        vertical-align: top;\n",
       "    }\n",
       "\n",
       "    .dataframe thead th {\n",
       "        text-align: right;\n",
       "    }\n",
       "</style>\n",
       "<table border=\"1\" class=\"dataframe\">\n",
       "  <thead>\n",
       "    <tr style=\"text-align: right;\">\n",
       "      <th></th>\n",
       "      <th>School</th>\n",
       "      <th>School Type</th>\n",
       "      <th>Number of Students</th>\n",
       "      <th>School Budget</th>\n",
       "      <th>Budget Per Student</th>\n",
       "      <th>Average Math Score</th>\n",
       "      <th>Average Reading Score</th>\n",
       "      <th>Percentage of Passing Math</th>\n",
       "      <th>Percentage of Passing Reading</th>\n",
       "      <th>Percentage of Passing</th>\n",
       "    </tr>\n",
       "  </thead>\n",
       "  <tbody>\n",
       "    <tr>\n",
       "      <th>0</th>\n",
       "      <td>&lt;pandas.core.groupby.generic.DataFrameGroupBy ...</td>\n",
       "      <td>Student ID       student_n...</td>\n",
       "      <td>39170</td>\n",
       "      <td>2.117241e+06</td>\n",
       "      <td>54.052617</td>\n",
       "      <td>school_name\n",
       "Bailey High School       77.048432...</td>\n",
       "      <td>school_name\n",
       "Bailey High School       81.033963...</td>\n",
       "      <td>school_name\n",
       "Bailey High School       8.470768\n",
       "...</td>\n",
       "      <td>school_name\n",
       "Bailey High School       10.408476...</td>\n",
       "      <td>school_name\n",
       "Bailey High School       6.941537\n",
       "...</td>\n",
       "    </tr>\n",
       "  </tbody>\n",
       "</table>\n",
       "</div>"
      ],
      "text/plain": [
       "                                              School  \\\n",
       "0  <pandas.core.groupby.generic.DataFrameGroupBy ...   \n",
       "\n",
       "                                         School Type  Number of Students  \\\n",
       "0                      Student ID       student_n...               39170   \n",
       "\n",
       "   School Budget  Budget Per Student  \\\n",
       "0   2.117241e+06           54.052617   \n",
       "\n",
       "                                  Average Math Score  \\\n",
       "0  school_name\n",
       "Bailey High School       77.048432...   \n",
       "\n",
       "                               Average Reading Score  \\\n",
       "0  school_name\n",
       "Bailey High School       81.033963...   \n",
       "\n",
       "                          Percentage of Passing Math  \\\n",
       "0  school_name\n",
       "Bailey High School       8.470768\n",
       "...   \n",
       "\n",
       "                       Percentage of Passing Reading  \\\n",
       "0  school_name\n",
       "Bailey High School       10.408476...   \n",
       "\n",
       "                               Percentage of Passing  \n",
       "0  school_name\n",
       "Bailey High School       6.941537\n",
       "...  "
      ]
     },
     "execution_count": 530,
     "metadata": {},
     "output_type": "execute_result"
    }
   ],
   "source": [
    "top_schools = school_summary.sort_values(\"Percentage of Passing\", ascending = True)\n",
    "\n",
    "top_schools.head(5)"
   ]
  },
  {
   "cell_type": "markdown",
   "metadata": {
    "collapsed": true
   },
   "source": [
    "## Math Scores by Grade"
   ]
  },
  {
   "cell_type": "markdown",
   "metadata": {},
   "source": [
    "* Create a table that lists the average Reading Score for students of each grade level (9th, 10th, 11th, 12th) at each school.\n",
    "\n",
    "  * Create a pandas series for each grade. Hint: use a conditional statement.\n",
    "  \n",
    "  * Group each series by school\n",
    "  \n",
    "  * Combine the series into a dataframe\n",
    "  \n",
    "  * Optional: give the displayed data cleaner formatting"
   ]
  },
  {
   "cell_type": "code",
   "execution_count": 531,
   "metadata": {},
   "outputs": [],
   "source": [
    "math_nine = student_data.loc[student_data['grade'] == '9th'].groupby('school_name')[\"math_score\"].mean()\n",
    "math_ten = student_data.loc[student_data['grade'] == '10th'].groupby('school_name')[\"math_score\"].mean()\n",
    "math_eleven = student_data.loc[student_data['grade'] == '11th'].groupby('school_name')[\"math_score\"].mean()\n",
    "math_twelve = student_data.loc[student_data['grade'] == '12th'].groupby('school_name')[\"math_score\"].mean()"
   ]
  },
  {
   "cell_type": "markdown",
   "metadata": {},
   "source": [
    "## Reading Score by Grade "
   ]
  },
  {
   "cell_type": "markdown",
   "metadata": {},
   "source": [
    "* Perform the same operations as above for reading scores"
   ]
  },
  {
   "cell_type": "code",
   "execution_count": 532,
   "metadata": {},
   "outputs": [],
   "source": [
    "read_nine = student_data.loc[student_data['grade'] == '9th'].groupby('school_name')[\"reading_score\"].mean()\n",
    "read_ten = student_data.loc[student_data['grade'] == '10th'].groupby('school_name')[\"reading_score\"].mean()\n",
    "read_eleven = student_data.loc[student_data['grade'] == '11th'].groupby('school_name')[\"reading_score\"].mean()\n",
    "read_twelve = student_data.loc[student_data['grade'] == '12th'].groupby('school_name')[\"reading_score\"].mean()"
   ]
  },
  {
   "cell_type": "markdown",
   "metadata": {},
   "source": [
    "## Scores by School Spending"
   ]
  },
  {
   "cell_type": "markdown",
   "metadata": {},
   "source": [
    "* Create a table that breaks down school performances based on average Spending Ranges (Per Student). Use 4 reasonable bins to group school spending. Include in the table each of the following:\n",
    "  * Average Math Score\n",
    "  * Average Reading Score\n",
    "  * % Passing Math\n",
    "  * % Passing Reading\n",
    "  * Overall Passing Rate (Average of the above two)"
   ]
  },
  {
   "cell_type": "code",
   "execution_count": 533,
   "metadata": {},
   "outputs": [
    {
     "ename": "KeyError",
     "evalue": "'Columns not found: False, True'",
     "output_type": "error",
     "traceback": [
      "\u001b[1;31m---------------------------------------------------------------------------\u001b[0m",
      "\u001b[1;31mKeyError\u001b[0m                                  Traceback (most recent call last)",
      "\u001b[1;32m<ipython-input-533-fc7c145d010d>\u001b[0m in \u001b[0;36m<module>\u001b[1;34m\u001b[0m\n\u001b[0;32m     11\u001b[0m \u001b[0mavg_read_score\u001b[0m \u001b[1;33m=\u001b[0m \u001b[0mspending\u001b[0m\u001b[1;33m[\u001b[0m\u001b[1;34m'reading_score'\u001b[0m\u001b[1;33m]\u001b[0m\u001b[1;33m.\u001b[0m\u001b[0mmean\u001b[0m\u001b[1;33m(\u001b[0m\u001b[1;33m)\u001b[0m\u001b[1;33m\u001b[0m\u001b[1;33m\u001b[0m\u001b[0m\n\u001b[0;32m     12\u001b[0m \u001b[1;33m\u001b[0m\u001b[0m\n\u001b[1;32m---> 13\u001b[1;33m \u001b[0mpass_math_score\u001b[0m \u001b[1;33m=\u001b[0m \u001b[0mspending\u001b[0m\u001b[1;33m[\u001b[0m\u001b[0mcomplete_df\u001b[0m\u001b[1;33m[\u001b[0m\u001b[1;34m'math_score'\u001b[0m\u001b[1;33m]\u001b[0m \u001b[1;33m>=\u001b[0m \u001b[1;36m70\u001b[0m\u001b[1;33m]\u001b[0m\u001b[1;33m.\u001b[0m\u001b[0mgroupby\u001b[0m\u001b[1;33m(\u001b[0m\u001b[1;34m'spending_bins'\u001b[0m\u001b[1;33m)\u001b[0m\u001b[1;33m[\u001b[0m\u001b[1;34m'Student ID'\u001b[0m\u001b[1;33m]\u001b[0m\u001b[1;33m.\u001b[0m\u001b[0mcount\u001b[0m\u001b[1;33m(\u001b[0m\u001b[1;33m)\u001b[0m\u001b[1;33m/\u001b[0m\u001b[0mspending\u001b[0m\u001b[1;33m[\u001b[0m\u001b[1;34m'Student ID'\u001b[0m\u001b[1;33m]\u001b[0m\u001b[1;33m.\u001b[0m\u001b[0mcount\u001b[0m\u001b[1;33m(\u001b[0m\u001b[1;33m)\u001b[0m\u001b[1;33m\u001b[0m\u001b[1;33m\u001b[0m\u001b[0m\n\u001b[0m\u001b[0;32m     14\u001b[0m \u001b[1;33m\u001b[0m\u001b[0m\n\u001b[0;32m     15\u001b[0m \u001b[0mpass_read_score\u001b[0m \u001b[1;33m=\u001b[0m \u001b[0mcomplete_df\u001b[0m\u001b[1;33m[\u001b[0m\u001b[0mcomplete_df\u001b[0m\u001b[1;33m[\u001b[0m\u001b[1;34m'reading_score'\u001b[0m\u001b[1;33m]\u001b[0m \u001b[1;33m>=\u001b[0m \u001b[1;36m70\u001b[0m\u001b[1;33m]\u001b[0m\u001b[1;33m.\u001b[0m\u001b[0mgroupby\u001b[0m\u001b[1;33m(\u001b[0m\u001b[1;34m'spending_bins'\u001b[0m\u001b[1;33m)\u001b[0m\u001b[1;33m[\u001b[0m\u001b[1;34m'Student ID'\u001b[0m\u001b[1;33m]\u001b[0m\u001b[1;33m.\u001b[0m\u001b[0mcount\u001b[0m\u001b[1;33m(\u001b[0m\u001b[1;33m)\u001b[0m\u001b[1;33m/\u001b[0m\u001b[0mspending\u001b[0m\u001b[1;33m[\u001b[0m\u001b[1;34m'Student ID'\u001b[0m\u001b[1;33m]\u001b[0m\u001b[1;33m.\u001b[0m\u001b[0mcount\u001b[0m\u001b[1;33m(\u001b[0m\u001b[1;33m)\u001b[0m\u001b[1;33m\u001b[0m\u001b[1;33m\u001b[0m\u001b[0m\n",
      "\u001b[1;32m~\\anaconda3\\envs\\PythonData\\lib\\site-packages\\pandas\\core\\groupby\\generic.py\u001b[0m in \u001b[0;36m__getitem__\u001b[1;34m(self, key)\u001b[0m\n\u001b[0;32m   1601\u001b[0m                 \u001b[0mstacklevel\u001b[0m\u001b[1;33m=\u001b[0m\u001b[1;36m2\u001b[0m\u001b[1;33m,\u001b[0m\u001b[1;33m\u001b[0m\u001b[1;33m\u001b[0m\u001b[0m\n\u001b[0;32m   1602\u001b[0m             )\n\u001b[1;32m-> 1603\u001b[1;33m         \u001b[1;32mreturn\u001b[0m \u001b[0msuper\u001b[0m\u001b[1;33m(\u001b[0m\u001b[1;33m)\u001b[0m\u001b[1;33m.\u001b[0m\u001b[0m__getitem__\u001b[0m\u001b[1;33m(\u001b[0m\u001b[0mkey\u001b[0m\u001b[1;33m)\u001b[0m\u001b[1;33m\u001b[0m\u001b[1;33m\u001b[0m\u001b[0m\n\u001b[0m\u001b[0;32m   1604\u001b[0m \u001b[1;33m\u001b[0m\u001b[0m\n\u001b[0;32m   1605\u001b[0m     \u001b[1;32mdef\u001b[0m \u001b[0m_gotitem\u001b[0m\u001b[1;33m(\u001b[0m\u001b[0mself\u001b[0m\u001b[1;33m,\u001b[0m \u001b[0mkey\u001b[0m\u001b[1;33m,\u001b[0m \u001b[0mndim\u001b[0m\u001b[1;33m:\u001b[0m \u001b[0mint\u001b[0m\u001b[1;33m,\u001b[0m \u001b[0msubset\u001b[0m\u001b[1;33m=\u001b[0m\u001b[1;32mNone\u001b[0m\u001b[1;33m)\u001b[0m\u001b[1;33m:\u001b[0m\u001b[1;33m\u001b[0m\u001b[1;33m\u001b[0m\u001b[0m\n",
      "\u001b[1;32m~\\anaconda3\\envs\\PythonData\\lib\\site-packages\\pandas\\core\\base.py\u001b[0m in \u001b[0;36m__getitem__\u001b[1;34m(self, key)\u001b[0m\n\u001b[0;32m    218\u001b[0m             \u001b[1;32mif\u001b[0m \u001b[0mlen\u001b[0m\u001b[1;33m(\u001b[0m\u001b[0mself\u001b[0m\u001b[1;33m.\u001b[0m\u001b[0mobj\u001b[0m\u001b[1;33m.\u001b[0m\u001b[0mcolumns\u001b[0m\u001b[1;33m.\u001b[0m\u001b[0mintersection\u001b[0m\u001b[1;33m(\u001b[0m\u001b[0mkey\u001b[0m\u001b[1;33m)\u001b[0m\u001b[1;33m)\u001b[0m \u001b[1;33m!=\u001b[0m \u001b[0mlen\u001b[0m\u001b[1;33m(\u001b[0m\u001b[0mkey\u001b[0m\u001b[1;33m)\u001b[0m\u001b[1;33m:\u001b[0m\u001b[1;33m\u001b[0m\u001b[1;33m\u001b[0m\u001b[0m\n\u001b[0;32m    219\u001b[0m                 \u001b[0mbad_keys\u001b[0m \u001b[1;33m=\u001b[0m \u001b[0mlist\u001b[0m\u001b[1;33m(\u001b[0m\u001b[0mset\u001b[0m\u001b[1;33m(\u001b[0m\u001b[0mkey\u001b[0m\u001b[1;33m)\u001b[0m\u001b[1;33m.\u001b[0m\u001b[0mdifference\u001b[0m\u001b[1;33m(\u001b[0m\u001b[0mself\u001b[0m\u001b[1;33m.\u001b[0m\u001b[0mobj\u001b[0m\u001b[1;33m.\u001b[0m\u001b[0mcolumns\u001b[0m\u001b[1;33m)\u001b[0m\u001b[1;33m)\u001b[0m\u001b[1;33m\u001b[0m\u001b[1;33m\u001b[0m\u001b[0m\n\u001b[1;32m--> 220\u001b[1;33m                 \u001b[1;32mraise\u001b[0m \u001b[0mKeyError\u001b[0m\u001b[1;33m(\u001b[0m\u001b[1;34mf\"Columns not found: {str(bad_keys)[1:-1]}\"\u001b[0m\u001b[1;33m)\u001b[0m\u001b[1;33m\u001b[0m\u001b[1;33m\u001b[0m\u001b[0m\n\u001b[0m\u001b[0;32m    221\u001b[0m             \u001b[1;32mreturn\u001b[0m \u001b[0mself\u001b[0m\u001b[1;33m.\u001b[0m\u001b[0m_gotitem\u001b[0m\u001b[1;33m(\u001b[0m\u001b[0mlist\u001b[0m\u001b[1;33m(\u001b[0m\u001b[0mkey\u001b[0m\u001b[1;33m)\u001b[0m\u001b[1;33m,\u001b[0m \u001b[0mndim\u001b[0m\u001b[1;33m=\u001b[0m\u001b[1;36m2\u001b[0m\u001b[1;33m)\u001b[0m\u001b[1;33m\u001b[0m\u001b[1;33m\u001b[0m\u001b[0m\n\u001b[0;32m    222\u001b[0m \u001b[1;33m\u001b[0m\u001b[0m\n",
      "\u001b[1;31mKeyError\u001b[0m: 'Columns not found: False, True'"
     ]
    }
   ],
   "source": [
    "#bins\n",
    "bins = [0, 584.999, 614.999, 644.999, 999999]\n",
    "\n",
    "group_name = ['< $585', \"$585 - 614\", \"$615 - 644\", \"> $644\"]\n",
    "\n",
    "complete_df['spending_bin'] = pd.cut(complete_df['budget']/complete_df['size'], bins, labels = group_name)\n",
    "\n",
    "spending= complete_df.groupby('spending_bin')\n",
    "\n",
    "#values\n",
    "avg_math_score = spending['math_score'].mean()\n",
    "\n",
    "avg_read_score = spending['reading_score'].mean()\n",
    "\n",
    "pass_math_score = spending[complete_df['math_score'] >= 70].groupby('spending_bins')['Student ID'].count()/spending['Student ID'].count()\n",
    "\n",
    "pass_read_score = complete_df[complete_df['reading_score'] >= 70].groupby('spending_bins')['Student ID'].count()/spending['Student ID'].count()\n",
    "\n",
    "overall = complete_df[(complete_df['reading_score'] >= 70) & (complete_df['math_score'] >= 70)].groupby('spending_bins')['Student ID'].count()/spending['Student ID'].count()\n"
   ]
  },
  {
   "cell_type": "code",
   "execution_count": null,
   "metadata": {},
   "outputs": [],
   "source": [
    "#dataframe\n",
    "\n",
    "score_by_school= pd.DataFrame ({\n",
    "        \"Average Math Score\": avg_math_score,\n",
    "        \"Average Reading Score\": avg_read_score,\n",
    "        '% Passing Math': pass_math_score,\n",
    "        '% Passing Reading': pass_read_score,\n",
    "        \"Overall Passing Rate\": overall\n",
    "})"
   ]
  },
  {
   "cell_type": "markdown",
   "metadata": {},
   "source": [
    "## Scores by School Size"
   ]
  },
  {
   "cell_type": "markdown",
   "metadata": {},
   "source": [
    "* Perform the same operations as above, based on school size."
   ]
  },
  {
   "cell_type": "code",
   "execution_count": null,
   "metadata": {
    "scrolled": true
   },
   "outputs": [],
   "source": []
  },
  {
   "cell_type": "markdown",
   "metadata": {},
   "source": [
    "## Scores by School Type"
   ]
  },
  {
   "cell_type": "markdown",
   "metadata": {},
   "source": [
    "* Perform the same operations as above, based on school type"
   ]
  },
  {
   "cell_type": "code",
   "execution_count": null,
   "metadata": {},
   "outputs": [],
   "source": []
  },
  {
   "cell_type": "code",
   "execution_count": null,
   "metadata": {},
   "outputs": [],
   "source": []
  }
 ],
 "metadata": {
  "anaconda-cloud": {},
  "kernel_info": {
   "name": "python3"
  },
  "kernelspec": {
   "display_name": "Python 3 (ipykernel)",
   "language": "python",
   "name": "python3"
  },
  "language_info": {
   "codemirror_mode": {
    "name": "ipython",
    "version": 3
   },
   "file_extension": ".py",
   "mimetype": "text/x-python",
   "name": "python",
   "nbconvert_exporter": "python",
   "pygments_lexer": "ipython3",
   "version": "3.6.10"
  },
  "latex_envs": {
   "LaTeX_envs_menu_present": true,
   "autoclose": false,
   "autocomplete": true,
   "bibliofile": "biblio.bib",
   "cite_by": "apalike",
   "current_citInitial": 1,
   "eqLabelWithNumbers": true,
   "eqNumInitial": 1,
   "hotkeys": {
    "equation": "Ctrl-E",
    "itemize": "Ctrl-I"
   },
   "labels_anchors": false,
   "latex_user_defs": false,
   "report_style_numbering": false,
   "user_envs_cfg": false
  },
  "nteract": {
   "version": "0.8.4"
  }
 },
 "nbformat": 4,
 "nbformat_minor": 1
}
